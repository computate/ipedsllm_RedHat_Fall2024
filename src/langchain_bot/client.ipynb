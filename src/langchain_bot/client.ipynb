{
 "cells": [
  {
   "cell_type": "code",
   "execution_count": 11,
   "metadata": {},
   "outputs": [],
   "source": [
    "import uuid\n",
    "from langserve import RemoteRunnable\n",
    "\n",
    "conversation_id = str(uuid.uuid4())\n",
    "chat = RemoteRunnable(\"http://localhost:8001/\", cookies={\"user_id\": \"test_1\"})"
   ]
  },
  {
   "cell_type": "code",
   "execution_count": 12,
   "metadata": {},
   "outputs": [
    {
     "data": {
      "text/plain": [
       "'The list of universities in Boston includes:\\n1. Empire Beauty School-Boston\\n2. Boston Baptist College\\n3. Bay State College\\n4. Berklee College of Music\\n5. Boston Architectural College\\n6. Boston University\\n7. Bunker Hill Community College\\n8. Cambridge College\\n9. Emerson College\\n10. Emmanuel College\\n11. Fisher College\\n12. Benjamin Franklin Cummings Institute of Technology\\n13. University of Massachusetts-Boston\\n14. MCPHS University\\n15. University of Massachusetts-Central Office\\n16. Massachusetts College of Art and Design\\n17. MGH Institute of Health Professions\\n18. The New England Conservatory of Music\\n19. New England College of Optometry\\n20. New England Law-Boston\\n21. North Bennet Street School\\n22. Northeastern University\\n23. Simmons University\\n24. Suffolk University\\n25. Wentworth Institute of Technology\\n26. Urban College of Boston\\n27. Northeastern University Professional Programs\\n28. Jupiter Beauty Academy'"
      ]
     },
     "execution_count": 12,
     "metadata": {},
     "output_type": "execute_result"
    }
   ],
   "source": [
    "chat.invoke({\"question\": \"List of Universities in Boston?\"}, {'configurable': { 'conversation_id': conversation_id } })"
   ]
  },
  {
   "cell_type": "code",
   "execution_count": 13,
   "metadata": {},
   "outputs": [
    {
     "data": {
      "text/plain": [
       "'The Web URLs for institutions in Boston are as follows:\\n1. Empire Beauty School-Boston - www.empire.edu/\\n2. Boston Baptist College - www.boston.edu/\\n3. Bay State College - https://www.baystate.edu/\\n4. Berklee College of Music - www.berklee.edu/\\n5. Boston Architectural College - www.the-bac.edu/\\n6. Boston University - www.bu.edu/\\n7. Bunker Hill Community College - www.bhcc.edu/\\n8. Cambridge College - www.cambridgecollege.edu/\\n9. Emerson College - www.emerson.edu/\\n10. Emmanuel College - www.emmanuel.edu/\\n11. Fisher College - www.fisher.edu/\\n12. Benjamin Franklin Cummings Institute of Technology - www.bfit.edu/\\n13. University of Massachusetts-Boston - www.umb.edu/\\n14. MCPHS University - www.mcphs.edu/\\n15. University of Massachusetts-Central Office - www.massachusetts.edu/\\n16. Massachusetts College of Art and Design - www.massart.edu/\\n17. MGH Institute of Health Professions - www.mghihp.edu/\\n18. The New England Conservatory of Music - https://necmusic.edu/\\n19. New England College of Optometry - www.neco.edu/\\n20. New England Law-Boston - www.nesl.edu/\\n21. North Bennet Street School - www.nbss.edu/\\n22. Northeastern University - www.northeastern.edu/\\n23. Simmons University - www.simmons.edu/\\n24. Suffolk University - https://www.suffolk.edu/\\n25. Wentworth Institute of Technology - https://wit.edu/\\n26. Urban College of Boston - https://www.urbancollege.edu/\\n27. Northeastern University Professional Programs - https://www.northeastern.edu/\\n28. Jupiter Beauty Academy - www.jba.edu/'"
      ]
     },
     "execution_count": 13,
     "metadata": {},
     "output_type": "execute_result"
    }
   ],
   "source": [
    "chat.invoke({\"question\": \"Provide their Web URL?\"}, {'configurable': { 'conversation_id': conversation_id } })"
   ]
  },
  {
   "attachments": {},
   "cell_type": "markdown",
   "metadata": {},
   "source": []
  },
  {
   "cell_type": "code",
   "execution_count": 14,
   "metadata": {},
   "outputs": [
    {
     "data": {
      "text/plain": [
       "'1c945a92-168a-48af-92bd-11a7ff94fbae'"
      ]
     },
     "execution_count": 14,
     "metadata": {},
     "output_type": "execute_result"
    }
   ],
   "source": [
    "conversation_id"
   ]
  },
  {
   "cell_type": "code",
   "execution_count": 15,
   "metadata": {},
   "outputs": [
    {
     "name": "stdout",
     "output_type": "stream",
     "text": [
      "chat_histories/  [error opening dir]\n",
      "\n",
      "0 directories, 0 files\n"
     ]
    }
   ],
   "source": [
    "!tree chat_histories/"
   ]
  },
  {
   "cell_type": "code",
   "execution_count": 10,
   "metadata": {},
   "outputs": [
    {
     "name": "stdout",
     "output_type": "stream",
     "text": [
      "cat: chat_histories/test_1/add2cb22-e469-4317-aa6a-777a24215552.json: No such file or directory\n"
     ]
    }
   ],
   "source": [
    "!cat chat_histories/test_1/add2cb22-e469-4317-aa6a-777a24215552.json | jq ."
   ]
  },
  {
   "cell_type": "code",
   "execution_count": null,
   "metadata": {},
   "outputs": [],
   "source": []
  }
 ],
 "metadata": {
  "kernelspec": {
   "display_name": "venv",
   "language": "python",
   "name": "python3"
  },
  "language_info": {
   "codemirror_mode": {
    "name": "ipython",
    "version": 3
   },
   "file_extension": ".py",
   "mimetype": "text/x-python",
   "name": "python",
   "nbconvert_exporter": "python",
   "pygments_lexer": "ipython3",
   "version": "3.11.5"
  },
  "orig_nbformat": 4
 },
 "nbformat": 4,
 "nbformat_minor": 2
}
